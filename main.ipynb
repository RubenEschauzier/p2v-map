{
 "cells": [
  {
   "cell_type": "markdown",
   "metadata": {},
   "source": [
    "# Example P2V-MAP\n",
    "\n",
    "This notebook runs P2V-MAP as propsed in\n",
    "\n",
    "> Gabel, S., Guhl, D., & Klapper, D. (2019). P2V-MAP: Mapping Market Structures for Large Retail Assortments. *Journal of Marketing Research* (forthcoming).\n",
    "\n",
    "Please specify author, output path, experiment name, seed for the random number generator, and add a comment for the experiment in cell below. <br>\n",
    "Runs for approximately four minutes on 40x Intel(R) Xeon(R) CPU E5-2690 v2 @ 3.00GHz, 256 GB 1600 MHz DDR3, GPU Titan X."
   ]
  },
  {
   "cell_type": "code",
   "execution_count": null,
   "metadata": {},
   "outputs": [],
   "source": [
    "INPUT = {\n",
    "    \"author\": \"SG\",\n",
    "    \"output_path\": \"./results\",\n",
    "    \"experiment\": \"p2v-map-example\",\n",
    "    \"comment\": \"Test run on sample data set.\",\n",
    "    \"verbose\": True,\n",
    "    \"seed\": 501,\n",
    "}"
   ]
  },
  {
   "cell_type": "markdown",
   "metadata": {},
   "source": [
    "## Import libraries and and helper functions"
   ]
  },
  {
   "cell_type": "code",
   "execution_count": null,
   "metadata": {},
   "outputs": [],
   "source": [
    "import sys                        # add library path\n",
    "import os                         # path utils\n",
    "import pathlib                    # create directories\n",
    "import shutil                     # remove file trees\n",
    "import pandas as pd               # data frames\n",
    "import numpy as np                # random number seed\n",
    "import tensorflow as tf           # random number seed"
   ]
  },
  {
   "cell_type": "code",
   "execution_count": null,
   "metadata": {},
   "outputs": [],
   "source": [
    "sys.path.append('./libraries')\n",
    "import p2vmap                     # p2v-map\n",
    "import utils                      # utility methods\n",
    "import evaluation                 # evaluation methods"
   ]
  },
  {
   "cell_type": "markdown",
   "metadata": {},
   "source": [
    "## Experiment logger"
   ]
  },
  {
   "cell_type": "code",
   "execution_count": null,
   "metadata": {},
   "outputs": [],
   "source": [
    "experiment_logger = {\n",
    "    x: INPUT[x] for x in [\"author\",\"output_path\",\"experiment\",\"comment\",\"seed\"]\n",
    "}"
   ]
  },
  {
   "cell_type": "markdown",
   "metadata": {},
   "source": [
    "## Data and controls"
   ]
  },
  {
   "cell_type": "code",
   "execution_count": null,
   "metadata": {},
   "outputs": [],
   "source": [
    "df_train = pd.read_csv('./data/baskets_train.csv.gz')\n",
    "df_validation = pd.read_csv('./data/baskets_validation.csv.gz')\n",
    "df_test = pd.read_csv('./data/baskets_test.csv.gz')\n",
    "product = pd.read_csv('./data/master.csv.gz')"
   ]
  },
  {
   "cell_type": "code",
   "execution_count": null,
   "metadata": {},
   "outputs": [],
   "source": [
    "control_step_1_data = utils.read_json('./control/step_1_data.json')\n",
    "if INPUT['verbose']:\n",
    "    utils.print_json(control_step_1_data)"
   ]
  },
  {
   "cell_type": "code",
   "execution_count": null,
   "metadata": {},
   "outputs": [],
   "source": [
    "control_step_2_p2v = utils.read_json('./control/step_2_p2v.json')\n",
    "control_step_2_p2v['p2v_kwargs']['path_results'] = '{output_path}/{experiment}'.format(**experiment_logger)\n",
    "if INPUT['verbose']:\n",
    "    utils.print_json(control_step_2_p2v)"
   ]
  },
  {
   "cell_type": "code",
   "execution_count": null,
   "metadata": {},
   "outputs": [],
   "source": [
    "control_step_3_map = utils.read_json('./control/step_3_map.json')\n",
    "control_step_3_map['tsne_data_kwargs']['path_results'] = '{output_path}/{experiment}'.format(**experiment_logger)\n",
    "if INPUT['verbose']:\n",
    "    utils.print_json(control_step_3_map)"
   ]
  },
  {
   "cell_type": "markdown",
   "metadata": {},
   "source": [
    "## Log experiment"
   ]
  },
  {
   "cell_type": "code",
   "execution_count": null,
   "metadata": {},
   "outputs": [],
   "source": [
    "experiment_logger[\"configs\"] = {\n",
    "    \"step_1_data\": control_step_1_data,\n",
    "    \"step_2_p2v\": control_step_2_p2v,\n",
    "    \"step_3_map\": control_step_3_map,\n",
    "}"
   ]
  },
  {
   "cell_type": "markdown",
   "metadata": {},
   "source": [
    "## Create output path for experiment and log configs"
   ]
  },
  {
   "cell_type": "code",
   "execution_count": null,
   "metadata": {},
   "outputs": [],
   "source": [
    "if os.path.exists(control_step_2_p2v['p2v_kwargs']['path_results']):\n",
    "    shutil.rmtree(control_step_2_p2v['p2v_kwargs']['path_results'])\n",
    "\n",
    "pathlib.Path(control_step_2_p2v['p2v_kwargs']['path_results']).mkdir(parents=True)"
   ]
  },
  {
   "cell_type": "code",
   "execution_count": null,
   "metadata": {},
   "outputs": [],
   "source": [
    "utils.write_json(\n",
    "    x=experiment_logger,\n",
    "    f='{output_path}/{experiment}/experiment_logger.json'.format(**experiment_logger)\n",
    ")"
   ]
  },
  {
   "cell_type": "markdown",
   "metadata": {},
   "source": [
    "## MAIN"
   ]
  },
  {
   "cell_type": "code",
   "execution_count": null,
   "metadata": {},
   "outputs": [],
   "source": [
    "np.random.seed(experiment_logger['seed'])\n",
    "tf.set_random_seed(experiment_logger['seed'])"
   ]
  },
  {
   "cell_type": "markdown",
   "metadata": {},
   "source": [
    "### Step I: Data Preparation"
   ]
  },
  {
   "cell_type": "code",
   "execution_count": null,
   "metadata": {},
   "outputs": [],
   "source": [
    "data_streamer_train, data_streamer_validation, data_streamer_test = p2vmap.step_1(\n",
    "    df_train,\n",
    "    df_validation,\n",
    "    df_test,\n",
    "    **control_step_1_data\n",
    ")"
   ]
  },
  {
   "cell_type": "markdown",
   "metadata": {},
   "source": [
    "### Step II: Latent Product Attributes"
   ]
  },
  {
   "cell_type": "code",
   "execution_count": null,
   "metadata": {},
   "outputs": [],
   "source": [
    "control_step_2_p2v['p2v_kwargs']['train_streamer'] = data_streamer_train\n",
    "control_step_2_p2v['p2v_kwargs']['validation_streamer'] = data_streamer_validation\n",
    "control_step_2_p2v['p2v_kwargs']['test_streamer'] = data_streamer_test"
   ]
  },
  {
   "cell_type": "code",
   "execution_count": null,
   "metadata": {},
   "outputs": [],
   "source": [
    "p2v_instance = p2vmap.step_2(\n",
    "    **control_step_2_p2v\n",
    ")"
   ]
  },
  {
   "cell_type": "markdown",
   "metadata": {},
   "source": [
    "### Step III: Mapping of Products and Attribute Overlays"
   ]
  },
  {
   "cell_type": "code",
   "execution_count": null,
   "metadata": {},
   "outputs": [],
   "source": [
    "map_data = p2vmap.step_3(master=product, **control_step_3_map)"
   ]
  },
  {
   "cell_type": "code",
   "execution_count": null,
   "metadata": {},
   "outputs": [],
   "source": [
    "map_data.head()"
   ]
  },
  {
   "cell_type": "markdown",
   "metadata": {},
   "source": [
    "## Analysis"
   ]
  },
  {
   "cell_type": "markdown",
   "metadata": {},
   "source": [
    "### P2V Dashboard (Step II)"
   ]
  },
  {
   "cell_type": "code",
   "execution_count": null,
   "metadata": {},
   "outputs": [],
   "source": [
    "dashboard = evaluation.DashboardTensorFlowSG(\n",
    "    '%s/out' % control_step_2_p2v['p2v_kwargs']['path_results'],\n",
    "    n_heatmap=10,\n",
    "    master=product[['c', 'j']]\n",
    ")"
   ]
  },
  {
   "cell_type": "code",
   "execution_count": null,
   "metadata": {},
   "outputs": [],
   "source": [
    "dashboard.plot_loss()"
   ]
  },
  {
   "cell_type": "code",
   "execution_count": null,
   "metadata": {},
   "outputs": [],
   "source": [
    "dashboard.plot_product_embedding(label='file_wi')"
   ]
  },
  {
   "cell_type": "code",
   "execution_count": null,
   "metadata": {},
   "outputs": [],
   "source": [
    "dashboard.plot_product_embedding(label='file_wo')"
   ]
  },
  {
   "cell_type": "markdown",
   "metadata": {},
   "source": [
    "### Benchmarking"
   ]
  },
  {
   "cell_type": "code",
   "execution_count": null,
   "metadata": {},
   "outputs": [],
   "source": [
    "scores = evaluation.benchmarking(map_data)"
   ]
  }
 ],
 "metadata": {
  "kernelspec": {
   "display_name": "Python 2",
   "language": "python",
   "name": "python2"
  },
  "language_info": {
   "codemirror_mode": {
    "name": "ipython",
    "version": 3
   },
   "file_extension": ".py",
   "mimetype": "text/x-python",
   "name": "python",
   "nbconvert_exporter": "python",
   "pygments_lexer": "ipython3",
   "version": "3.5.2"
  }
 },
 "nbformat": 4,
 "nbformat_minor": 2
}
